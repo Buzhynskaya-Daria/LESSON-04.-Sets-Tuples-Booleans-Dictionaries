{
  "cells": [
    {
      "cell_type": "markdown",
      "metadata": {
        "id": "view-in-github",
        "colab_type": "text"
      },
      "source": [
        "<a href=\"https://colab.research.google.com/github/Buzhynskaya-Daria/LESSON-04.-Sets-Tuples-Booleans-Dictionaries/blob/main/Copy_of_%F0%9F%93%9A_Lesson_Sets%2C_Tuples%2C_Booleans%2C_%26_Dictionaries.ipynb\" target=\"_parent\"><img src=\"https://colab.research.google.com/assets/colab-badge.svg\" alt=\"Open In Colab\"/></a>"
      ]
    },
    {
      "cell_type": "markdown",
      "metadata": {
        "id": "3E2D_PWb6BdA"
      },
      "source": [
        "<div>\n",
        "<img src=\"https://coursereport-s3-production.global.ssl.fastly.net/uploads/school/logo/219/original/CT_LOGO_NEW.jpg\" width=60>\n",
        "</div>\n",
        "\n",
        "#  **Sets, Tuples, Booleans, & Dictionaries**\n",
        "\n",
        "*Be sure to be following along with the lesson page before progressing in this notebook!*"
      ]
    },
    {
      "cell_type": "markdown",
      "source": [
        "## **🛝 Practice Playground** - Section 1\n",
        "Sets in Python are collections that are both unordered and unindexed, defined with curly braces `{}`. They are particularly useful for storing unique items and are optimized for operations that require ensuring element uniqueness, such as membership checks, removing duplicates, and performing mathematical set operations like unions and intersections.\n",
        "\n",
        "While sets are powerful tools, they are not always the go-to data structure for data analysis tasks where the order of elements can be crucial or when data manipulation involving indices is required. In such cases, lists or dictionaries might be more appropriate."
      ],
      "metadata": {
        "id": "YOUiHU27y0mn"
      }
    },
    {
      "cell_type": "code",
      "execution_count": 1,
      "metadata": {
        "id": "ZvzqVRb86BdP"
      },
      "outputs": [],
      "source": [
        "# Run this cell!\n",
        "\n",
        "my_set = {1, 2, 3, \"apple\", \"banana\"}"
      ]
    },
    {
      "cell_type": "code",
      "execution_count": 2,
      "metadata": {
        "id": "YbetqlU_6BdP",
        "colab": {
          "base_uri": "https://localhost:8080/"
        },
        "outputId": "e72ae4d8-ab3e-4fd8-d0d0-7607f904c579"
      },
      "outputs": [
        {
          "output_type": "execute_result",
          "data": {
            "text/plain": [
              "{1, 2, 3, 'apple', 'banana', 'orange'}"
            ]
          },
          "metadata": {},
          "execution_count": 2
        }
      ],
      "source": [
        "# Run this cell!\n",
        "\n",
        "my_set.add(\"orange\")\n",
        "my_set"
      ]
    },
    {
      "cell_type": "code",
      "source": [
        "# Run this cell!\n",
        "\n",
        "my_set.update([4, 5, \"grape\"])\n",
        "my_set"
      ],
      "metadata": {
        "id": "COZbkLYTs56N",
        "colab": {
          "base_uri": "https://localhost:8080/"
        },
        "outputId": "998ae396-692d-44bc-c645-b32e89507398"
      },
      "execution_count": 3,
      "outputs": [
        {
          "output_type": "execute_result",
          "data": {
            "text/plain": [
              "{1, 2, 3, 4, 5, 'apple', 'banana', 'grape', 'orange'}"
            ]
          },
          "metadata": {},
          "execution_count": 3
        }
      ]
    },
    {
      "cell_type": "code",
      "source": [
        "# Run this cell!\n",
        "\n",
        "my_set.discard(\"banana\")\n",
        "my_set"
      ],
      "metadata": {
        "id": "nqyQ50bQtpuW",
        "colab": {
          "base_uri": "https://localhost:8080/"
        },
        "outputId": "86152150-3981-4d40-c4a9-f4b4edcb7fa4"
      },
      "execution_count": 4,
      "outputs": [
        {
          "output_type": "execute_result",
          "data": {
            "text/plain": [
              "{1, 2, 3, 4, 5, 'apple', 'grape', 'orange'}"
            ]
          },
          "metadata": {},
          "execution_count": 4
        }
      ]
    },
    {
      "cell_type": "code",
      "source": [
        "# Run this cell!\n",
        "\n",
        "# Raises an error if 'apple' is not found\n",
        "\n",
        "my_set.remove(\"apple\")\n",
        "my_set"
      ],
      "metadata": {
        "id": "3cHYPeAoLbba",
        "colab": {
          "base_uri": "https://localhost:8080/"
        },
        "outputId": "10404218-641b-42bf-bab1-04f135af3859"
      },
      "execution_count": 5,
      "outputs": [
        {
          "output_type": "execute_result",
          "data": {
            "text/plain": [
              "{1, 2, 3, 4, 5, 'grape', 'orange'}"
            ]
          },
          "metadata": {},
          "execution_count": 5
        }
      ]
    },
    {
      "cell_type": "code",
      "source": [
        "# Run this cell!\n",
        "\n",
        "set_a = {1, 2, 3, 4, 5}\n",
        "set_b = {4, 5, 6, 7, 8}"
      ],
      "metadata": {
        "id": "ZLe3ZOz7qQ3r"
      },
      "execution_count": 6,
      "outputs": []
    },
    {
      "cell_type": "code",
      "source": [
        "# Run this cell!\n",
        "\n",
        "set_a | set_b"
      ],
      "metadata": {
        "id": "NkJkbyTvmAZC",
        "colab": {
          "base_uri": "https://localhost:8080/"
        },
        "outputId": "4860fbf2-6f37-44ec-c9e1-3e87df195825"
      },
      "execution_count": 7,
      "outputs": [
        {
          "output_type": "execute_result",
          "data": {
            "text/plain": [
              "{1, 2, 3, 4, 5, 6, 7, 8}"
            ]
          },
          "metadata": {},
          "execution_count": 7
        }
      ]
    },
    {
      "cell_type": "code",
      "source": [
        "# Run this cell!\n",
        "\n",
        "set_a & set_b"
      ],
      "metadata": {
        "id": "Rkly9IHWmAWq",
        "colab": {
          "base_uri": "https://localhost:8080/"
        },
        "outputId": "1b3c8c85-8cee-4820-9d9d-dc832f7c9e93"
      },
      "execution_count": 8,
      "outputs": [
        {
          "output_type": "execute_result",
          "data": {
            "text/plain": [
              "{4, 5}"
            ]
          },
          "metadata": {},
          "execution_count": 8
        }
      ]
    },
    {
      "cell_type": "code",
      "source": [
        "# Run this cell!\n",
        "\n",
        "set_a - set_b"
      ],
      "metadata": {
        "id": "YQfrmBbOH1Tr",
        "colab": {
          "base_uri": "https://localhost:8080/"
        },
        "outputId": "06f669bc-9cb8-478b-bc70-455c633272f4"
      },
      "execution_count": 9,
      "outputs": [
        {
          "output_type": "execute_result",
          "data": {
            "text/plain": [
              "{1, 2, 3}"
            ]
          },
          "metadata": {},
          "execution_count": 9
        }
      ]
    },
    {
      "cell_type": "code",
      "source": [
        "# Run this cell!\n",
        "\n",
        "set_a ^ set_b"
      ],
      "metadata": {
        "id": "_l4qpakjM-bu",
        "colab": {
          "base_uri": "https://localhost:8080/"
        },
        "outputId": "1bd1fff5-b7c9-4745-87ce-6f8e7eace0c4"
      },
      "execution_count": 10,
      "outputs": [
        {
          "output_type": "execute_result",
          "data": {
            "text/plain": [
              "{1, 2, 3, 6, 7, 8}"
            ]
          },
          "metadata": {},
          "execution_count": 10
        }
      ]
    },
    {
      "cell_type": "markdown",
      "source": [
        "## **🛝 Practice Playground** - Section 2\n",
        "Tuples are similar to lists in Python but are immutable, meaning once they are created, their elements cannot be changed, added, or removed. This characteristic makes tuples a reliable data structure for storing a sequence of items that should not be modified."
      ],
      "metadata": {
        "id": "ymC_eEixVkuW"
      }
    },
    {
      "cell_type": "code",
      "source": [
        "# Run this cell!\n",
        "\n",
        "dimensions = (100, 200)\n",
        "width, height = dimensions\n",
        "print(\"Width:\", width)\n",
        "print(\"Height:\", height)"
      ],
      "metadata": {
        "id": "i871jVSQtfuw",
        "colab": {
          "base_uri": "https://localhost:8080/"
        },
        "outputId": "19d7d0a5-da43-435c-fd56-a66d960e54d4"
      },
      "execution_count": 11,
      "outputs": [
        {
          "output_type": "stream",
          "name": "stdout",
          "text": [
            "Width: 100\n",
            "Height: 200\n"
          ]
        }
      ]
    },
    {
      "cell_type": "code",
      "source": [
        "# Run this cell!\n",
        "\n",
        "colors = (\"red\", \"green\", \"blue\")\n",
        "colors[0]"
      ],
      "metadata": {
        "id": "N6KpyYfBWEY5",
        "colab": {
          "base_uri": "https://localhost:8080/",
          "height": 36
        },
        "outputId": "711e9ae1-22fb-4ebf-b13e-043a5a321ab6"
      },
      "execution_count": 12,
      "outputs": [
        {
          "output_type": "execute_result",
          "data": {
            "text/plain": [
              "'red'"
            ],
            "application/vnd.google.colaboratory.intrinsic+json": {
              "type": "string"
            }
          },
          "metadata": {},
          "execution_count": 12
        }
      ]
    },
    {
      "cell_type": "code",
      "source": [
        "# Run this cell!\n",
        "\n",
        "tuple1 = (1, 2, 3)\n",
        "tuple2 = (4, 5, 6)\n",
        "combined_tuple = tuple1 + tuple2\n",
        "print(combined_tuple)"
      ],
      "metadata": {
        "id": "6-YXKtt4qPXV",
        "colab": {
          "base_uri": "https://localhost:8080/"
        },
        "outputId": "50147e29-feea-4655-9a49-577422628e67"
      },
      "execution_count": 13,
      "outputs": [
        {
          "output_type": "stream",
          "name": "stdout",
          "text": [
            "(1, 2, 3, 4, 5, 6)\n"
          ]
        }
      ]
    },
    {
      "cell_type": "markdown",
      "source": [
        "---"
      ],
      "metadata": {
        "id": "ysRhcsKft27B"
      }
    },
    {
      "cell_type": "markdown",
      "metadata": {
        "id": "gqQArSbM6BdE"
      },
      "source": [
        "## **🛝 Practice Playground** - Section 3\n",
        "Booleans are crucial for implementing logic in programs. They are the backbone of conditional statements and loops, which are used to execute code based on whether conditions are true or false."
      ]
    },
    {
      "cell_type": "code",
      "source": [
        "# Run this cell!\n",
        "\n",
        "a = 5\n",
        "b = 10\n",
        "\n",
        "result = a < b\n",
        "\n",
        "result"
      ],
      "metadata": {
        "id": "LholcXPzb-Yl",
        "colab": {
          "base_uri": "https://localhost:8080/"
        },
        "outputId": "a8aef72c-096b-44b0-bbd2-e002aabe8240"
      },
      "execution_count": 14,
      "outputs": [
        {
          "output_type": "execute_result",
          "data": {
            "text/plain": [
              "True"
            ]
          },
          "metadata": {},
          "execution_count": 14
        }
      ]
    },
    {
      "cell_type": "code",
      "source": [
        "# Run this cell!\n",
        "\n",
        "is_student = True\n",
        "if is_student:\n",
        "    print(\"Eligible for student discount.\")\n",
        "else:\n",
        "    print(\"Not eligible for discount.\")"
      ],
      "metadata": {
        "id": "jiaSzKv5hZey",
        "colab": {
          "base_uri": "https://localhost:8080/"
        },
        "outputId": "5f57d58f-59e4-415a-ecca-1994f6dd75c6"
      },
      "execution_count": 15,
      "outputs": [
        {
          "output_type": "stream",
          "name": "stdout",
          "text": [
            "Eligible for student discount.\n"
          ]
        }
      ]
    },
    {
      "cell_type": "code",
      "source": [
        "# Run this cell!\n",
        "\n",
        "age = 20\n",
        "has_ticket = True\n",
        "if age >= 18 and has_ticket:\n",
        "    print(\"Allowed entry\")\n",
        "else:\n",
        "    print(\"Entry denied\")\n"
      ],
      "metadata": {
        "id": "pfJGuGnscDVr",
        "colab": {
          "base_uri": "https://localhost:8080/"
        },
        "outputId": "ae9419b1-a724-4c37-d645-287e311cb86c"
      },
      "execution_count": 16,
      "outputs": [
        {
          "output_type": "stream",
          "name": "stdout",
          "text": [
            "Allowed entry\n"
          ]
        }
      ]
    },
    {
      "cell_type": "code",
      "source": [
        "# Run this cell!\n",
        "\n",
        "age = 16\n",
        "has_ticket = True\n",
        "if age >= 18 and has_ticket:\n",
        "    print(\"Allowed entry\")\n",
        "else:\n",
        "    print(\"Entry denied\")"
      ],
      "metadata": {
        "id": "mkwRdMHGb-Wb",
        "colab": {
          "base_uri": "https://localhost:8080/"
        },
        "outputId": "659a628e-d58f-4e6f-ef5f-9b32e1acd6c3"
      },
      "execution_count": 17,
      "outputs": [
        {
          "output_type": "stream",
          "name": "stdout",
          "text": [
            "Entry denied\n"
          ]
        }
      ]
    },
    {
      "cell_type": "markdown",
      "source": [
        "## **🛝 Practice Playground** - Section 4\n",
        "\n",
        "Dictionaries are incredibly versatile data structures in Python that store data in key-value pairs. This allows for efficient data retrieval by key, rather than by index as in lists or tuples."
      ],
      "metadata": {
        "id": "xcP6OwzZnd2s"
      }
    },
    {
      "cell_type": "code",
      "source": [
        "# Run this cell!\n",
        "\n",
        "person = {\n",
        "  \"first_name\": \"John\",\n",
        "  \"last_name\": \"Doe\",\n",
        "  \"age\": 30\n",
        "}"
      ],
      "metadata": {
        "id": "fWeEjTMxnddR",
        "colab": {
          "base_uri": "https://localhost:8080/"
        },
        "outputId": "469e227d-2b3c-4e1a-f061-dc8e25080bef"
      },
      "execution_count": 20,
      "outputs": [
        {
          "output_type": "stream",
          "name": "stdout",
          "text": [
            "{'first_name': 'John', 'last_name': 'Doe', 'age': 30}\n"
          ]
        }
      ]
    },
    {
      "cell_type": "code",
      "source": [
        "# Run this cell!\n",
        "\n",
        "# This will raise a key error!\n",
        "\n",
        "person[0]"
      ],
      "metadata": {
        "id": "Dx_K9bypf5hM",
        "colab": {
          "base_uri": "https://localhost:8080/",
          "height": 182
        },
        "outputId": "2996e613-c051-4d0d-af99-d1a621fcf9a1"
      },
      "execution_count": 21,
      "outputs": [
        {
          "output_type": "error",
          "ename": "KeyError",
          "evalue": "0",
          "traceback": [
            "\u001b[0;31m---------------------------------------------------------------------------\u001b[0m",
            "\u001b[0;31mKeyError\u001b[0m                                  Traceback (most recent call last)",
            "\u001b[0;32m<ipython-input-21-4360aca0e262>\u001b[0m in \u001b[0;36m<cell line: 0>\u001b[0;34m()\u001b[0m\n\u001b[1;32m      3\u001b[0m \u001b[0;31m# This will raise a key error!\u001b[0m\u001b[0;34m\u001b[0m\u001b[0;34m\u001b[0m\u001b[0m\n\u001b[1;32m      4\u001b[0m \u001b[0;34m\u001b[0m\u001b[0m\n\u001b[0;32m----> 5\u001b[0;31m \u001b[0mperson\u001b[0m\u001b[0;34m[\u001b[0m\u001b[0;36m0\u001b[0m\u001b[0;34m]\u001b[0m\u001b[0;34m\u001b[0m\u001b[0;34m\u001b[0m\u001b[0m\n\u001b[0m",
            "\u001b[0;31mKeyError\u001b[0m: 0"
          ]
        }
      ]
    },
    {
      "cell_type": "code",
      "source": [
        "# Run this cell!\n",
        "\n",
        "person[\"profession\"] = \"Engineer\""
      ],
      "metadata": {
        "id": "dZeenoKXnnRC"
      },
      "execution_count": 38,
      "outputs": []
    },
    {
      "cell_type": "code",
      "source": [
        "# Run this cell!\n",
        "person"
      ],
      "metadata": {
        "id": "qjWJKhy8hDIF",
        "colab": {
          "base_uri": "https://localhost:8080/"
        },
        "outputId": "a5433e88-4319-4d11-d1b9-89332776be64"
      },
      "execution_count": 39,
      "outputs": [
        {
          "output_type": "execute_result",
          "data": {
            "text/plain": [
              "{'first_name': 'John', 'last_name': 'Doe', 'age': 31, 'profession': 'Engineer'}"
            ]
          },
          "metadata": {},
          "execution_count": 39
        }
      ]
    },
    {
      "cell_type": "code",
      "source": [
        "# Run this cell!\n",
        "\n",
        "person[\"age\"] = 31"
      ],
      "metadata": {
        "id": "uqyg432LnpdA"
      },
      "execution_count": 40,
      "outputs": []
    },
    {
      "cell_type": "code",
      "source": [
        "# Run this cell!\n",
        "\n",
        "person"
      ],
      "metadata": {
        "id": "DTOERilGnsKl",
        "colab": {
          "base_uri": "https://localhost:8080/"
        },
        "outputId": "4d2c9690-8ad9-45fe-87e6-631177cd1e7b"
      },
      "execution_count": 41,
      "outputs": [
        {
          "output_type": "execute_result",
          "data": {
            "text/plain": [
              "{'first_name': 'John', 'last_name': 'Doe', 'age': 31, 'profession': 'Engineer'}"
            ]
          },
          "metadata": {},
          "execution_count": 41
        }
      ]
    },
    {
      "cell_type": "code",
      "source": [
        "# Run this cell!\n",
        "\n",
        "del person[\"age\"]"
      ],
      "metadata": {
        "id": "QsF4yYdohK-p"
      },
      "execution_count": 42,
      "outputs": []
    },
    {
      "cell_type": "code",
      "source": [
        "# Run this cell!\n",
        "\n",
        "person"
      ],
      "metadata": {
        "id": "FTX_1IQQhK8s",
        "colab": {
          "base_uri": "https://localhost:8080/"
        },
        "outputId": "b428289b-9323-48fd-ad64-84f6b7b2b8fe"
      },
      "execution_count": 43,
      "outputs": [
        {
          "output_type": "execute_result",
          "data": {
            "text/plain": [
              "{'first_name': 'John', 'last_name': 'Doe', 'profession': 'Engineer'}"
            ]
          },
          "metadata": {},
          "execution_count": 43
        }
      ]
    },
    {
      "cell_type": "code",
      "source": [
        "# Run this cell!\n",
        "\n",
        "vehicle_info = {\n",
        "    \"make\": \"Toyota\",\n",
        "    \"model\": \"Corolla\",\n",
        "    \"year\": 2021\n",
        "}"
      ],
      "metadata": {
        "id": "x6yDrHorhK6k"
      },
      "execution_count": 44,
      "outputs": []
    },
    {
      "cell_type": "code",
      "source": [
        "# Run this cell!\n",
        "\n",
        "vehicle_info.keys()"
      ],
      "metadata": {
        "id": "OYJ-Mz9khK4h",
        "colab": {
          "base_uri": "https://localhost:8080/"
        },
        "outputId": "885b7f49-2fcc-44af-b33b-fdfe7d0ad3d5"
      },
      "execution_count": 45,
      "outputs": [
        {
          "output_type": "execute_result",
          "data": {
            "text/plain": [
              "dict_keys(['make', 'model', 'year'])"
            ]
          },
          "metadata": {},
          "execution_count": 45
        }
      ]
    },
    {
      "cell_type": "code",
      "source": [
        "# Run this cell!\n",
        "\n",
        "vehicle_info.values()"
      ],
      "metadata": {
        "id": "IzllswN1hK1n",
        "colab": {
          "base_uri": "https://localhost:8080/"
        },
        "outputId": "15d842b6-77e8-48d5-c127-bf104fda09ed"
      },
      "execution_count": 46,
      "outputs": [
        {
          "output_type": "execute_result",
          "data": {
            "text/plain": [
              "dict_values(['Toyota', 'Corolla', 2021])"
            ]
          },
          "metadata": {},
          "execution_count": 46
        }
      ]
    },
    {
      "cell_type": "code",
      "source": [
        "# Run this cell!\n",
        "\n",
        "vehicle_info.items()"
      ],
      "metadata": {
        "id": "cg-G8q7ihTxC",
        "colab": {
          "base_uri": "https://localhost:8080/"
        },
        "outputId": "12886517-5542-412d-b5ad-cd2e6140de0d"
      },
      "execution_count": 47,
      "outputs": [
        {
          "output_type": "execute_result",
          "data": {
            "text/plain": [
              "dict_items([('make', 'Toyota'), ('model', 'Corolla'), ('year', 2021)])"
            ]
          },
          "metadata": {},
          "execution_count": 47
        }
      ]
    },
    {
      "cell_type": "code",
      "source": [
        "# Run this cell!\n",
        "\n",
        "# Dictionary to store product prices\n",
        "product_prices = {\n",
        "  \"Crunchwrap\": 3.49,\n",
        "  \"Burrito\": 2.99,\n",
        "  \"Baja Blast\": 1.99\n",
        "}\n",
        "\n",
        "# Calculate total cost of one Crunchwrap and two Burritos\n",
        "total_cost = product_prices[\"Crunchwrap\"] + product_prices[\"Burrito\"] * 2\n",
        "print(f\"Total cost: ${total_cost:.2f}\")"
      ],
      "metadata": {
        "id": "WGh8WGkyhYxh",
        "colab": {
          "base_uri": "https://localhost:8080/"
        },
        "outputId": "87fe2c82-302b-4743-b91a-7962fb2c5bd6"
      },
      "execution_count": 58,
      "outputs": [
        {
          "output_type": "stream",
          "name": "stdout",
          "text": [
            "Total cost: $9.47\n"
          ]
        }
      ]
    },
    {
      "cell_type": "code",
      "source": [
        "# Run this cell!\n",
        "\n",
        "authors = {\n",
        "    \"J.R.R. Tolkien\": {\n",
        "        \"genre\": \"fantasy\",\n",
        "        \"books\": [\n",
        "            \"The Fellowship of the Ring\",\n",
        "            \"The Two Towers\",\n",
        "            \"The Return of the King\"\n",
        "        ],\n",
        "        \"active\": False\n",
        "    },\n",
        "    \"Brandon Sanderson\": {\n",
        "        \"genre\": \"fantasy\",\n",
        "        \"books\": [\n",
        "            \"The Way of Kings\",\n",
        "            \"Words of Radiance\",\n",
        "            \"Oathbringer\"\n",
        "        ],\n",
        "        \"active\": True,\n",
        "        \"phone\": {\n",
        "            \"home\": \"(281) 330-8004\",\n",
        "            \"work\": \"(877) CASH-NOW\"\n",
        "        }\n",
        "    },\n",
        "    \"Frank Herbert\": {\n",
        "        \"genre\": \"science fiction\",\n",
        "        \"books\": [\"Dune\"],\n",
        "        \"phone\": None,\n",
        "        \"active\": False\n",
        "    }\n",
        "}"
      ],
      "metadata": {
        "id": "Je0JbchKhYtW"
      },
      "execution_count": 49,
      "outputs": []
    },
    {
      "cell_type": "code",
      "source": [
        "# Run this cell!\n",
        "\n",
        "authors"
      ],
      "metadata": {
        "id": "Y_ULy7N-h1dY",
        "colab": {
          "base_uri": "https://localhost:8080/"
        },
        "outputId": "1020ab58-e0a7-478c-c57e-ec565e7a6720"
      },
      "execution_count": 50,
      "outputs": [
        {
          "output_type": "execute_result",
          "data": {
            "text/plain": [
              "{'J.R.R. Tolkien': {'genre': 'fantasy',\n",
              "  'books': ['The Fellowship of the Ring',\n",
              "   'The Two Towers',\n",
              "   'The Return of the King'],\n",
              "  'active': False},\n",
              " 'Brandon Sanderson': {'genre': 'fantasy',\n",
              "  'books': ['The Way of Kings', 'Words of Radiance', 'Oathbringer'],\n",
              "  'active': True,\n",
              "  'phone': {'home': '(281) 330-8004', 'work': '(877) CASH-NOW'}},\n",
              " 'Frank Herbert': {'genre': 'science fiction',\n",
              "  'books': ['Dune'],\n",
              "  'phone': None,\n",
              "  'active': False}}"
            ]
          },
          "metadata": {},
          "execution_count": 50
        }
      ]
    },
    {
      "cell_type": "code",
      "source": [
        "# Run this cell!\n",
        "\n",
        "authors[\"J.R.R. Tolkien\"]"
      ],
      "metadata": {
        "id": "bJbhJ-wUhYrX",
        "colab": {
          "base_uri": "https://localhost:8080/"
        },
        "outputId": "97a9ecba-ab6a-4e57-d351-ca49e2a3ab88"
      },
      "execution_count": 51,
      "outputs": [
        {
          "output_type": "execute_result",
          "data": {
            "text/plain": [
              "{'genre': 'fantasy',\n",
              " 'books': ['The Fellowship of the Ring',\n",
              "  'The Two Towers',\n",
              "  'The Return of the King'],\n",
              " 'active': False}"
            ]
          },
          "metadata": {},
          "execution_count": 51
        }
      ]
    },
    {
      "cell_type": "code",
      "source": [
        "# Run this cell!\n",
        "\n",
        "authors[\"J.R.R. Tolkien\"][\"books\"]"
      ],
      "metadata": {
        "id": "T8AVEvyhhYpC",
        "colab": {
          "base_uri": "https://localhost:8080/"
        },
        "outputId": "e832e948-8b6d-4794-8f0d-245305ea361c"
      },
      "execution_count": 52,
      "outputs": [
        {
          "output_type": "execute_result",
          "data": {
            "text/plain": [
              "['The Fellowship of the Ring', 'The Two Towers', 'The Return of the King']"
            ]
          },
          "metadata": {},
          "execution_count": 52
        }
      ]
    },
    {
      "cell_type": "code",
      "source": [
        "# Run this cell!\n",
        "\n",
        "authors[\"J.R.R. Tolkien\"][\"books\"][1]"
      ],
      "metadata": {
        "id": "mcjEPI1_hk5U",
        "colab": {
          "base_uri": "https://localhost:8080/",
          "height": 36
        },
        "outputId": "5d180d7a-ca7c-4845-ff26-73007d8ebfea"
      },
      "execution_count": 53,
      "outputs": [
        {
          "output_type": "execute_result",
          "data": {
            "text/plain": [
              "'The Two Towers'"
            ],
            "application/vnd.google.colaboratory.intrinsic+json": {
              "type": "string"
            }
          },
          "metadata": {},
          "execution_count": 53
        }
      ]
    },
    {
      "cell_type": "code",
      "source": [
        "# Run this cell!\n",
        "\n",
        "authors"
      ],
      "metadata": {
        "id": "Rp58Dq4Th25C",
        "colab": {
          "base_uri": "https://localhost:8080/"
        },
        "outputId": "b334a2f6-6c66-4966-d91d-ed9683998008"
      },
      "execution_count": 54,
      "outputs": [
        {
          "output_type": "execute_result",
          "data": {
            "text/plain": [
              "{'J.R.R. Tolkien': {'genre': 'fantasy',\n",
              "  'books': ['The Fellowship of the Ring',\n",
              "   'The Two Towers',\n",
              "   'The Return of the King'],\n",
              "  'active': False},\n",
              " 'Brandon Sanderson': {'genre': 'fantasy',\n",
              "  'books': ['The Way of Kings', 'Words of Radiance', 'Oathbringer'],\n",
              "  'active': True,\n",
              "  'phone': {'home': '(281) 330-8004', 'work': '(877) CASH-NOW'}},\n",
              " 'Frank Herbert': {'genre': 'science fiction',\n",
              "  'books': ['Dune'],\n",
              "  'phone': None,\n",
              "  'active': False}}"
            ]
          },
          "metadata": {},
          "execution_count": 54
        }
      ]
    },
    {
      "cell_type": "code",
      "source": [
        "# Run this cell!\n",
        "\n",
        "authors[\"Brandon Sanderson\"]"
      ],
      "metadata": {
        "id": "N8nxAQ4ahmVg",
        "colab": {
          "base_uri": "https://localhost:8080/"
        },
        "outputId": "acb84823-3f7d-4380-9e3b-dd811eece09f"
      },
      "execution_count": 55,
      "outputs": [
        {
          "output_type": "execute_result",
          "data": {
            "text/plain": [
              "{'genre': 'fantasy',\n",
              " 'books': ['The Way of Kings', 'Words of Radiance', 'Oathbringer'],\n",
              " 'active': True,\n",
              " 'phone': {'home': '(281) 330-8004', 'work': '(877) CASH-NOW'}}"
            ]
          },
          "metadata": {},
          "execution_count": 55
        }
      ]
    },
    {
      "cell_type": "code",
      "source": [
        "# Run this cell!\n",
        "\n",
        "authors[\"Brandon Sanderson\"][\"phone\"]"
      ],
      "metadata": {
        "id": "2XcP0xaXhmTa",
        "colab": {
          "base_uri": "https://localhost:8080/"
        },
        "outputId": "aa55ac97-a0f8-4272-a982-8bafd646bc07"
      },
      "execution_count": 56,
      "outputs": [
        {
          "output_type": "execute_result",
          "data": {
            "text/plain": [
              "{'home': '(281) 330-8004', 'work': '(877) CASH-NOW'}"
            ]
          },
          "metadata": {},
          "execution_count": 56
        }
      ]
    },
    {
      "cell_type": "code",
      "source": [
        "# Run this cell!\n",
        "\n",
        "authors[\"Brandon Sanderson\"][\"phone\"][\"work\"]"
      ],
      "metadata": {
        "id": "04dMbQ93hmQ8",
        "colab": {
          "base_uri": "https://localhost:8080/",
          "height": 36
        },
        "outputId": "3ef44266-7e3f-4f33-ef14-ee881d554add"
      },
      "execution_count": 57,
      "outputs": [
        {
          "output_type": "execute_result",
          "data": {
            "text/plain": [
              "'(877) CASH-NOW'"
            ],
            "application/vnd.google.colaboratory.intrinsic+json": {
              "type": "string"
            }
          },
          "metadata": {},
          "execution_count": 57
        }
      ]
    }
  ],
  "metadata": {
    "anaconda-cloud": {},
    "colab": {
      "provenance": [],
      "include_colab_link": true
    },
    "kernelspec": {
      "display_name": "Python 3 (ipykernel)",
      "language": "python",
      "name": "python3"
    },
    "language_info": {
      "codemirror_mode": {
        "name": "ipython",
        "version": 3
      },
      "file_extension": ".py",
      "mimetype": "text/x-python",
      "name": "python",
      "nbconvert_exporter": "python",
      "pygments_lexer": "ipython3",
      "version": "3.11.7"
    }
  },
  "nbformat": 4,
  "nbformat_minor": 0
}