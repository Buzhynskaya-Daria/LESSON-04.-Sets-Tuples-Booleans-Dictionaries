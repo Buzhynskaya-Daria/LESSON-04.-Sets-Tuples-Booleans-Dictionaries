{
  "cells": [
    {
      "cell_type": "markdown",
      "metadata": {
        "id": "view-in-github",
        "colab_type": "text"
      },
      "source": [
        "<a href=\"https://colab.research.google.com/github/Buzhynskaya-Daria/LESSON-04.-Sets-Tuples-Booleans-Dictionaries/blob/main/Copy_of_%F0%9F%A7%AA_Lab_Ladder_Part_4_Sets%2C_Tuples%2C_Booleans%2C_%26_Dictionaries.ipynb\" target=\"_parent\"><img src=\"https://colab.research.google.com/assets/colab-badge.svg\" alt=\"Open In Colab\"/></a>"
      ]
    },
    {
      "cell_type": "markdown",
      "metadata": {
        "id": "1xbyIYOxEjtO"
      },
      "source": [
        "<div>\n",
        "<img src=\"https://coursereport-s3-production.global.ssl.fastly.net/uploads/school/logo/219/original/CT_LOGO_NEW.jpg\" width=60>\n",
        "</div>\n",
        "\n",
        "# **Python Ladder Challenges - Sets, Tuples, Booleans, & Dictionaries**"
      ]
    },
    {
      "cell_type": "markdown",
      "metadata": {
        "id": "KnVBAM15EjtU"
      },
      "source": [
        "# Climb the Ladder!\n",
        "Welcome to Part 4 of our ladder! Our class moves quickly! Sometimes, it feels like we make leaps in logic that are a bit too big. Learn Python _slowly_, by doing many, many examples. Problems in this notebook start out easy and progressively get harder, so that the next rung of the Python ladder is always within reach."
      ]
    },
    {
      "cell_type": "markdown",
      "metadata": {
        "id": "erdXoou7Ejt0"
      },
      "source": [
        "# Section IV: Sets"
      ]
    },
    {
      "cell_type": "markdown",
      "metadata": {
        "id": "NnygFMHwEjt0"
      },
      "source": [
        "34) Create a set named `fruit_set` containing \"apple\", \"banana\", and \"cherry\"."
      ]
    },
    {
      "cell_type": "code",
      "execution_count": null,
      "metadata": {
        "id": "mgaCnQw5Ejt0"
      },
      "outputs": [],
      "source": [
        "fruit_set = {\"apple\", \"banana\", \"cherry\"}"
      ]
    },
    {
      "cell_type": "markdown",
      "metadata": {
        "id": "XQYw7iorEjt1"
      },
      "source": [
        "35) Add \"orange\" to `fruit_set`."
      ]
    },
    {
      "cell_type": "code",
      "execution_count": 13,
      "metadata": {
        "id": "TS4BwnnKEjt1",
        "colab": {
          "base_uri": "https://localhost:8080/"
        },
        "outputId": "4736e7ce-6e7d-4855-c136-8fa34eda6ab0"
      },
      "outputs": [
        {
          "output_type": "stream",
          "name": "stdout",
          "text": [
            "{'orange', 'cherry', 'apple'}\n"
          ]
        }
      ],
      "source": [
        "fruit_set.add(\"orange\")\n",
        "print(fruit_set)"
      ]
    },
    {
      "cell_type": "markdown",
      "metadata": {
        "id": "w3aeOQfFEjt1"
      },
      "source": [
        "36) Remove \"banana\" from `fruit_set`."
      ]
    },
    {
      "cell_type": "code",
      "execution_count": 15,
      "metadata": {
        "id": "o4eH_H6qEjt1",
        "colab": {
          "base_uri": "https://localhost:8080/"
        },
        "outputId": "e72bf7a0-78b8-4e5c-a271-75976c1b16f9"
      },
      "outputs": [
        {
          "output_type": "stream",
          "name": "stdout",
          "text": [
            "{'cherry', 'apple'}\n"
          ]
        }
      ],
      "source": [
        "fruit_set = {\"apple\", \"banana\", \"cherry\"}\n",
        "fruit_set.remove(\"banana\")\n",
        "print(fruit_set)"
      ]
    },
    {
      "cell_type": "markdown",
      "metadata": {
        "id": "6z7I9o15Ejt2"
      },
      "source": [
        "37) Check if \"grape\" is in `fruit_set`. HINT: Use the `in` keyword."
      ]
    },
    {
      "cell_type": "code",
      "execution_count": 16,
      "metadata": {
        "id": "7gvqtPClEjt2",
        "colab": {
          "base_uri": "https://localhost:8080/"
        },
        "outputId": "b99f38b5-cc26-4871-e903-9a4663dcfee6"
      },
      "outputs": [
        {
          "output_type": "stream",
          "name": "stdout",
          "text": [
            "Grape is not in the set\n"
          ]
        }
      ],
      "source": [
        "fruit_set = {\"apple\", \"banana\", \"cherry\"}\n",
        "if \"grape\" in fruit_set:\n",
        "    print(\"Grape is in the set\")\n",
        "else:\n",
        "    print(\"Grape is not in the set\")"
      ]
    },
    {
      "cell_type": "markdown",
      "metadata": {
        "id": "U0_e2AUlEjt2"
      },
      "source": [
        "38) Create a new set `veggie_set` with \"carrot\" and \"potato\". Form a union of `fruit_set` and `veggie_set`."
      ]
    },
    {
      "cell_type": "code",
      "execution_count": 17,
      "metadata": {
        "id": "CppYjdaTEjt2",
        "colab": {
          "base_uri": "https://localhost:8080/"
        },
        "outputId": "a3372c19-566b-460a-9c03-9ffde9a83b6f"
      },
      "outputs": [
        {
          "output_type": "stream",
          "name": "stdout",
          "text": [
            "{'carrot', 'cherry', 'apple', 'banana', 'potato'}\n"
          ]
        }
      ],
      "source": [
        "fruit_set = {\"apple\", \"banana\", \"cherry\"}\n",
        "veggie_set = {\"carrot\", \"potato\"}\n",
        "union_set = fruit_set.union(veggie_set)\n",
        "print(union_set)"
      ]
    },
    {
      "cell_type": "markdown",
      "source": [
        "# Section V: Tuples"
      ],
      "metadata": {
        "id": "Ds9poxX9l5sb"
      }
    },
    {
      "cell_type": "markdown",
      "metadata": {
        "id": "9S6Q7e21Ejt2"
      },
      "source": [
        "39) Create a tuple `full_name` containing your first name and last name."
      ]
    },
    {
      "cell_type": "code",
      "execution_count": 18,
      "metadata": {
        "id": "jyFSO9XKEjt2",
        "colab": {
          "base_uri": "https://localhost:8080/"
        },
        "outputId": "44106146-ecc8-4978-adfb-2f03c95231bb"
      },
      "outputs": [
        {
          "output_type": "stream",
          "name": "stdout",
          "text": [
            "('John', 'Doe')\n"
          ]
        }
      ],
      "source": [
        "full_name = (\"John\", \"Doe\")\n",
        "print(full_name)"
      ]
    },
    {
      "cell_type": "markdown",
      "metadata": {
        "id": "SJZ0tBK6Ejt3"
      },
      "source": [
        "40) Access the first name from the `full_name` tuple."
      ]
    },
    {
      "cell_type": "code",
      "execution_count": 19,
      "metadata": {
        "id": "CXdHd355Ejt3",
        "colab": {
          "base_uri": "https://localhost:8080/"
        },
        "outputId": "ff0998b4-9cf6-4028-fb7b-1f4196abcc25"
      },
      "outputs": [
        {
          "output_type": "stream",
          "name": "stdout",
          "text": [
            "John\n"
          ]
        }
      ],
      "source": [
        "full_name = (\"John\", \"Doe\")\n",
        "first_name = full_name[0]\n",
        "print(first_name)"
      ]
    },
    {
      "cell_type": "markdown",
      "metadata": {
        "id": "th9IcYG0Ejt4"
      },
      "source": [
        "41) Access the last name using negative indexing."
      ]
    },
    {
      "cell_type": "code",
      "execution_count": 22,
      "metadata": {
        "id": "f6koOLG-Ejt5",
        "colab": {
          "base_uri": "https://localhost:8080/"
        },
        "outputId": "a305b5e4-4b70-4f6b-95a2-658ea2a60877"
      },
      "outputs": [
        {
          "output_type": "stream",
          "name": "stdout",
          "text": [
            "Doe\n"
          ]
        }
      ],
      "source": [
        "last_name = full_name[-1]\n",
        "print(last_name)"
      ]
    },
    {
      "cell_type": "markdown",
      "source": [
        "# Section VI: Booleans"
      ],
      "metadata": {
        "id": "WZiBqIfamRE5"
      }
    },
    {
      "cell_type": "markdown",
      "metadata": {
        "id": "oRrZ31liEjt5"
      },
      "source": [
        "42) Evaluate if 100 is greater than 50 and store the result in a boolean variable."
      ]
    },
    {
      "cell_type": "code",
      "execution_count": 23,
      "metadata": {
        "id": "sQMf-EA2Ejt6",
        "colab": {
          "base_uri": "https://localhost:8080/"
        },
        "outputId": "4f6b811a-c0ce-4f74-a502-6881cb01df35"
      },
      "outputs": [
        {
          "output_type": "stream",
          "name": "stdout",
          "text": [
            "True\n"
          ]
        }
      ],
      "source": [
        "evaluation = 100 > 50\n",
        "print(evaluation)"
      ]
    },
    {
      "cell_type": "markdown",
      "metadata": {
        "id": "49QJ40RdEjt6"
      },
      "source": [
        "43) Use a boolean to check if \"apple\" is in fruit_set."
      ]
    },
    {
      "cell_type": "code",
      "execution_count": 24,
      "metadata": {
        "id": "PbDQhQ-CEjt6",
        "colab": {
          "base_uri": "https://localhost:8080/"
        },
        "outputId": "4a3c0af4-5c4f-459d-e267-df9d7d1de850"
      },
      "outputs": [
        {
          "output_type": "stream",
          "name": "stdout",
          "text": [
            "Apple is in the set\n"
          ]
        }
      ],
      "source": [
        "fruit_set = {\"apple\", \"banana\", \"cherry\"}\n",
        "if \"apple\" in fruit_set:\n",
        "    print(\"Apple is in the set\")\n",
        "else:\n",
        "    print(\"Apple is not in the set\")"
      ]
    },
    {
      "cell_type": "markdown",
      "source": [
        "44) Compare whether the length of `fruit_set` is greater than `veggie_set`."
      ],
      "metadata": {
        "id": "GvVkyUo8md_T"
      }
    },
    {
      "cell_type": "code",
      "source": [
        "fruit_set = {\"apple\", \"banana\", \"cherry\"}\n",
        "veggie_set = {\"carrot\", \"potato\"}\n",
        "if len(fruit_set) > len(veggie_set):\n",
        "    print(\"Fruit set is greater than veggie set\")"
      ],
      "metadata": {
        "id": "GQ7JzypWmdm0",
        "colab": {
          "base_uri": "https://localhost:8080/"
        },
        "outputId": "baaebe1d-aab2-4d84-834f-b6372d8bf819"
      },
      "execution_count": 25,
      "outputs": [
        {
          "output_type": "stream",
          "name": "stdout",
          "text": [
            "Fruit set is greater than veggie set\n"
          ]
        }
      ]
    },
    {
      "cell_type": "markdown",
      "source": [
        "45) Determine if both elements \"carrot\" and \"potato\" are in `veggie_set`."
      ],
      "metadata": {
        "id": "48vGtFJkmdUl"
      }
    },
    {
      "cell_type": "code",
      "source": [
        "veggie_set = {\"carrot\", \"potato\"}\n",
        "if \"carrot\" in veggie_set and \"potato\" in veggie_set:\n",
        "    print(\"Both elements are in the set\")"
      ],
      "metadata": {
        "id": "-Arqh-dpmn6K",
        "colab": {
          "base_uri": "https://localhost:8080/"
        },
        "outputId": "ca757373-965c-49cb-9526-21fbc6267e1f"
      },
      "execution_count": 26,
      "outputs": [
        {
          "output_type": "stream",
          "name": "stdout",
          "text": [
            "Both elements are in the set\n"
          ]
        }
      ]
    },
    {
      "cell_type": "markdown",
      "source": [
        "46) Check if either \"banana\" or \"orange\" is in `fruit_set`."
      ],
      "metadata": {
        "id": "1YKTKGDmmoeu"
      }
    },
    {
      "cell_type": "code",
      "source": [
        "fruit_set = {\"apple\", \"banana\", \"cherry\"}\n",
        "if \"banana\" in fruit_set or \"orange\" in fruit_set:\n",
        "    print(\"Either banana or orange is in the set\")"
      ],
      "metadata": {
        "id": "D7iglygimoQl",
        "colab": {
          "base_uri": "https://localhost:8080/"
        },
        "outputId": "ade9561d-5154-4b91-cf22-33dfc74a2d41"
      },
      "execution_count": 27,
      "outputs": [
        {
          "output_type": "stream",
          "name": "stdout",
          "text": [
            "Either banana or orange is in the set\n"
          ]
        }
      ]
    },
    {
      "cell_type": "markdown",
      "source": [
        "# Section VII: Dictionaries"
      ],
      "metadata": {
        "id": "uCjeL4LhmtUV"
      }
    },
    {
      "cell_type": "markdown",
      "source": [
        "47) Create a dictionary `student_scores` with keys as student names and values as their scores. Alice, Bob, and Clark will be the student names you should use. You may pick the score you would like to give each."
      ],
      "metadata": {
        "id": "kYirevJWmzKp"
      }
    },
    {
      "cell_type": "code",
      "source": [
        "student_scores = {\n",
        "    \"Alice\": 85,\n",
        "    \"Bob\": 92,\n",
        "    \"Clark\": 78\n",
        "}\n",
        "print(student_scores)"
      ],
      "metadata": {
        "id": "gnshrUwAmtFC",
        "colab": {
          "base_uri": "https://localhost:8080/"
        },
        "outputId": "290b7101-850d-49c1-ded3-5800a2fecf50"
      },
      "execution_count": 28,
      "outputs": [
        {
          "output_type": "stream",
          "name": "stdout",
          "text": [
            "{'Alice': 85, 'Bob': 92, 'Clark': 78}\n"
          ]
        }
      ]
    },
    {
      "cell_type": "markdown",
      "source": [
        "48) Add a new student \"John\" with a score of 88 to `student_scores`."
      ],
      "metadata": {
        "id": "gkB9ghl8ms_m"
      }
    },
    {
      "cell_type": "code",
      "source": [
        "student_scores[\"John\"] = 88\n",
        "print(student_scores)"
      ],
      "metadata": {
        "id": "I2P7dIKtms6i",
        "colab": {
          "base_uri": "https://localhost:8080/"
        },
        "outputId": "b3d51453-ce18-44b9-8586-8748c432291c"
      },
      "execution_count": 29,
      "outputs": [
        {
          "output_type": "stream",
          "name": "stdout",
          "text": [
            "{'Alice': 85, 'Bob': 92, 'Clark': 78, 'John': 88}\n"
          ]
        }
      ]
    },
    {
      "cell_type": "markdown",
      "source": [
        "49) Retrieve the score for a student \"Alice\" from `student_scores`."
      ],
      "metadata": {
        "id": "L83LmIe5ms0x"
      }
    },
    {
      "cell_type": "code",
      "source": [
        "retrieve_score = student_scores[\"Alice\"]\n",
        "print(retrieve_score)"
      ],
      "metadata": {
        "id": "iWf-tGLSmsvk",
        "colab": {
          "base_uri": "https://localhost:8080/"
        },
        "outputId": "e3a25a07-d858-40ce-e41c-d5b8d3997c40"
      },
      "execution_count": 30,
      "outputs": [
        {
          "output_type": "stream",
          "name": "stdout",
          "text": [
            "85\n"
          ]
        }
      ]
    },
    {
      "cell_type": "markdown",
      "source": [
        "50) Remove a student \"Bob\" from `student_scores` and print the updated dictionary."
      ],
      "metadata": {
        "id": "83xkxQEomsqH"
      }
    },
    {
      "cell_type": "code",
      "source": [
        "remove_student = student_scores.pop(\"Bob\")\n",
        "print(student_scores)"
      ],
      "metadata": {
        "id": "XT7zi6DYnRD2",
        "colab": {
          "base_uri": "https://localhost:8080/"
        },
        "outputId": "5e7e9e08-86a5-4b98-d768-4ac47e06cdc1"
      },
      "execution_count": 31,
      "outputs": [
        {
          "output_type": "stream",
          "name": "stdout",
          "text": [
            "{'Alice': 85, 'Clark': 78, 'John': 88}\n"
          ]
        }
      ]
    },
    {
      "cell_type": "markdown",
      "source": [
        "51) Create a dictionary called `my_favorites` with the following keys:\n",
        "\n",
        "\n",
        "* `name`\n",
        "* `favorite_movie`\n",
        "* `favorite_band`\n",
        "* `favorite_tv_show`\n",
        "\n",
        "Make sure to fill the keys in with whatever's true for you!"
      ],
      "metadata": {
        "id": "qw2CypK7oMVN"
      }
    },
    {
      "cell_type": "code",
      "source": [
        "my_favorites = {\n",
        "    \"name\": \"John Doe\",\n",
        "    \"favorite_movie\": \"The Shawshank Redemption\",\n",
        "    \"favorite_band\": \"The Beatles\",\n",
        "    \"favorite_tv_show\": \"Game of Thrones\"\n",
        "}\n",
        "print(my_favorites)"
      ],
      "metadata": {
        "id": "-Mftb0ueoMlY",
        "colab": {
          "base_uri": "https://localhost:8080/"
        },
        "outputId": "08b6d502-3b0d-43d4-aded-44f2fa73d6a3"
      },
      "execution_count": 32,
      "outputs": [
        {
          "output_type": "stream",
          "name": "stdout",
          "text": [
            "{'name': 'John Doe', 'favorite_movie': 'The Shawshank Redemption', 'favorite_band': 'The Beatles', 'favorite_tv_show': 'Game of Thrones'}\n"
          ]
        }
      ]
    }
  ],
  "metadata": {
    "colab": {
      "provenance": [],
      "include_colab_link": true
    },
    "kernelspec": {
      "display_name": "Python 3",
      "language": "python",
      "name": "python3"
    },
    "language_info": {
      "codemirror_mode": {
        "name": "ipython",
        "version": 3
      },
      "file_extension": ".py",
      "mimetype": "text/x-python",
      "name": "python",
      "nbconvert_exporter": "python",
      "pygments_lexer": "ipython3",
      "version": "3.8.3"
    }
  },
  "nbformat": 4,
  "nbformat_minor": 0
}